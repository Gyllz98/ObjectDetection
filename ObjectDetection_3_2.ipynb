{
 "cells": [
  {
   "cell_type": "markdown",
   "metadata": {},
   "source": [
    "# 1. Build a convolutional neural network to classify object proposals (N+1 classes)"
   ]
  },
  {
   "cell_type": "code",
   "execution_count": 37,
   "metadata": {},
   "outputs": [],
   "source": [
    "import json\n",
    "from sklearn.model_selection import train_test_split\n",
    "import torch\n",
    "from OurDataloader import balanced_loader\n",
    "from Dataset import PotholeDataset\n",
    "from tqdm import tqdm\n",
    "from torchvision import transforms\n",
    "\n",
    "# Load splits.json\n",
    "with open('../Potholes/splits.json', 'r') as f:\n",
    "    splits = json.load(f)\n",
    "\n",
    "# Extract train and test splits\n",
    "train_files = splits['train']\n",
    "test_files = splits['test']\n",
    "\n",
    "# Further split the train set into train and validation\n",
    "train_files, val_files = train_test_split(train_files, test_size=0.2, random_state=42)"
   ]
  },
  {
   "cell_type": "code",
   "execution_count": 38,
   "metadata": {},
   "outputs": [],
   "source": [
    "\n",
    "transform = transforms.Compose([\n",
    "    transforms.Resize((128, 128)),\n",
    "    transforms.ToTensor(),\n",
    "    transforms.Normalize(mean=[0.485, 0.456, 0.406], std=[0.229, 0.224, 0.225])\n",
    "])"
   ]
  },
  {
   "cell_type": "code",
   "execution_count": 39,
   "metadata": {},
   "outputs": [
    {
     "name": "stderr",
     "output_type": "stream",
     "text": [
      "Loading annotations: 100%|██████████| 425/425 [00:00<00:00, 986.08it/s]\n",
      "Loading annotations: 100%|██████████| 107/107 [00:00<00:00, 2275.09it/s]\n",
      "Loading annotations: 100%|██████████| 133/133 [00:00<00:00, 491.41it/s]\n"
     ]
    }
   ],
   "source": [
    "# Paths\n",
    "img_dir = '../Potholes/annotated-images'\n",
    "annotations_dir = '../Potholes/labeled_proposals'\n",
    "\n",
    "# Initialize datasets\n",
    "train_dataset = PotholeDataset(img_dir, annotations_dir, train_files, transform=transform)\n",
    "val_dataset = PotholeDataset(img_dir, annotations_dir, val_files, transform=transform)\n",
    "test_dataset = PotholeDataset(img_dir, annotations_dir, test_files, transform=transform)"
   ]
  },
  {
   "cell_type": "code",
   "execution_count": 40,
   "metadata": {},
   "outputs": [
    {
     "ename": "TypeError",
     "evalue": "balanced_loader() got an unexpected keyword argument 'weight_sample'",
     "output_type": "error",
     "traceback": [
      "\u001b[1;31m---------------------------------------------------------------------------\u001b[0m",
      "\u001b[1;31mTypeError\u001b[0m                                 Traceback (most recent call last)",
      "Cell \u001b[1;32mIn[40], line 1\u001b[0m\n\u001b[1;32m----> 1\u001b[0m train_loader \u001b[38;5;241m=\u001b[39m \u001b[43mbalanced_loader\u001b[49m\u001b[43m(\u001b[49m\u001b[43mtrain_dataset\u001b[49m\u001b[43m,\u001b[49m\u001b[43m \u001b[49m\u001b[43mbatch_size\u001b[49m\u001b[38;5;241;43m=\u001b[39;49m\u001b[38;5;241;43m16\u001b[39;49m\u001b[43m,\u001b[49m\u001b[43m \u001b[49m\u001b[43mweight_sample\u001b[49m\u001b[43m \u001b[49m\u001b[38;5;241;43m=\u001b[39;49m\u001b[43m \u001b[49m\u001b[38;5;28;43;01mTrue\u001b[39;49;00m\u001b[43m)\u001b[49m\n\u001b[0;32m      2\u001b[0m val_loader \u001b[38;5;241m=\u001b[39m balanced_loader(val_dataset, batch_size\u001b[38;5;241m=\u001b[39m\u001b[38;5;241m16\u001b[39m, shuffle\u001b[38;5;241m=\u001b[39m\u001b[38;5;28;01mFalse\u001b[39;00m, weight_sample \u001b[38;5;241m=\u001b[39m \u001b[38;5;28;01mTrue\u001b[39;00m)\n\u001b[0;32m      3\u001b[0m test_loader \u001b[38;5;241m=\u001b[39m balanced_loader(test_dataset, batch_size\u001b[38;5;241m=\u001b[39m\u001b[38;5;241m16\u001b[39m, shuffle\u001b[38;5;241m=\u001b[39m\u001b[38;5;28;01mFalse\u001b[39;00m)\n",
      "\u001b[1;31mTypeError\u001b[0m: balanced_loader() got an unexpected keyword argument 'weight_sample'"
     ]
    }
   ],
   "source": [
    "train_loader = balanced_loader(train_dataset, batch_size=16, weight_sample = True)\n",
    "val_loader = balanced_loader(val_dataset, batch_size=16, shuffle=False, weight_sample = True)\n",
    "test_loader = balanced_loader(test_dataset, batch_size=16, shuffle=False)\n"
   ]
  },
  {
   "cell_type": "code",
   "execution_count": null,
   "metadata": {},
   "outputs": [],
   "source": [
    "import torch\n",
    "from PotholeCNN import PotholeCNN\n",
    "from TrainLoop import train\n",
    "# Initialize model, optimizer, and load data\n",
    "model = PotholeCNN()  # Your model class\n",
    "optimizer = torch.optim.Adam(model.parameters(), lr=0.001)\n",
    "device = torch.device(\"cuda\" if torch.cuda.is_available() else \"cpu\")\n",
    "\n",
    "# Train the model\n",
    "train(model, optimizer, epochs=10, train_loader=train_loader, test_loader=val_loader, device=device)"
   ]
  }
 ],
 "metadata": {
  "kernelspec": {
   "display_name": "dlcv",
   "language": "python",
   "name": "python3"
  },
  "language_info": {
   "codemirror_mode": {
    "name": "ipython",
    "version": 3
   },
   "file_extension": ".py",
   "mimetype": "text/x-python",
   "name": "python",
   "nbconvert_exporter": "python",
   "pygments_lexer": "ipython3",
   "version": "3.10.14"
  }
 },
 "nbformat": 4,
 "nbformat_minor": 2
}
