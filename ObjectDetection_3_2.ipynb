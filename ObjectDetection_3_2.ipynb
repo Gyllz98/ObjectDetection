{
 "cells": [
  {
   "cell_type": "markdown",
   "metadata": {},
   "source": [
    "# 1. Build a convolutional neural network to classify object proposals (N+1 classes)"
   ]
  },
  {
   "cell_type": "code",
   "execution_count": 1,
   "metadata": {},
   "outputs": [],
   "source": [
    "import json\n",
    "from sklearn.model_selection import train_test_split\n",
    "from tqdm import tqdm\n",
    "from torchvision import transforms\n",
    "\n",
    "# Load splits.json\n",
    "with open('../Potholes/splits.json', 'r') as f:\n",
    "    splits = json.load(f)\n",
    "\n",
    "# Extract train and test splits\n",
    "train_files = splits['train']\n",
    "test_files = splits['test']\n",
    "\n",
    "# Further split the train set into train and validation\n",
    "train_files, val_files = train_test_split(train_files, test_size=0.2, random_state=42)"
   ]
  },
  {
   "cell_type": "code",
   "execution_count": 2,
   "metadata": {},
   "outputs": [],
   "source": [
    "\n",
    "transform = transforms.Compose([\n",
    "    transforms.Resize((128, 128)),\n",
    "    transforms.ToTensor(),\n",
    "    transforms.Normalize(mean=[0.485, 0.456, 0.406], std=[0.229, 0.224, 0.225])\n",
    "])"
   ]
  },
  {
   "cell_type": "code",
   "execution_count": 3,
   "metadata": {},
   "outputs": [
    {
     "name": "stderr",
     "output_type": "stream",
     "text": [
      "Loading annotations: 100%|██████████| 425/425 [00:00<00:00, 706.41it/s]\n",
      "Loading annotations: 100%|██████████| 107/107 [00:00<00:00, 530.30it/s]\n",
      "Loading annotations: 100%|██████████| 133/133 [00:00<00:00, 956.20it/s]\n"
     ]
    }
   ],
   "source": [
    "# Paths\n",
    "from Dataset import PotholeDataset\n",
    "img_dir = '../Potholes/annotated-images'\n",
    "annotations_dir = '../Potholes/labeled_proposals'\n",
    "\n",
    "# Initialize datasets\n",
    "train_dataset = PotholeDataset(img_dir, annotations_dir, train_files, transform=transform)\n",
    "val_dataset = PotholeDataset(img_dir, annotations_dir, val_files, transform=transform)\n",
    "test_dataset = PotholeDataset(img_dir, annotations_dir, test_files, transform=transform)"
   ]
  },
  {
   "cell_type": "code",
   "execution_count": 4,
   "metadata": {},
   "outputs": [],
   "source": [
    "from OurDataloader import balanced_loader\n",
    "train_loader = balanced_loader(train_dataset, batch_size=16, weight_sample = True)\n",
    "val_loader = balanced_loader(val_dataset, batch_size=16, shuffle=False, weight_sample = True)\n",
    "test_loader = balanced_loader(test_dataset, batch_size=16, shuffle=False)"
   ]
  },
  {
   "cell_type": "code",
   "execution_count": null,
   "metadata": {},
   "outputs": [
    {
     "name": "stderr",
     "output_type": "stream",
     "text": [
      "Training Progress: 100%|██████████| 8893/8893 [09:59<00:00, 14.84it/s]\n"
     ]
    },
    {
     "name": "stdout",
     "output_type": "stream",
     "text": [
      "Epoch 1/10 | Training Loss: 0.2288 | Training Accuracy: 90.80%\n"
     ]
    },
    {
     "name": "stderr",
     "output_type": "stream",
     "text": [
      "Testing Progress: 100%|██████████| 2168/2168 [02:01<00:00, 17.83it/s]\n"
     ]
    },
    {
     "name": "stdout",
     "output_type": "stream",
     "text": [
      "Epoch 1/10 | Test Loss: 0.8344 | Test Accuracy: 76.30%\n"
     ]
    },
    {
     "name": "stderr",
     "output_type": "stream",
     "text": [
      "Training Progress: 100%|██████████| 8893/8893 [09:50<00:00, 15.05it/s]\n"
     ]
    },
    {
     "name": "stdout",
     "output_type": "stream",
     "text": [
      "Epoch 2/10 | Training Loss: 0.0572 | Training Accuracy: 98.28%\n"
     ]
    },
    {
     "name": "stderr",
     "output_type": "stream",
     "text": [
      "Testing Progress: 100%|██████████| 2168/2168 [02:00<00:00, 18.00it/s]\n"
     ]
    },
    {
     "name": "stdout",
     "output_type": "stream",
     "text": [
      "Epoch 2/10 | Test Loss: 1.6932 | Test Accuracy: 72.30%\n"
     ]
    },
    {
     "name": "stderr",
     "output_type": "stream",
     "text": [
      "Training Progress: 100%|██████████| 8893/8893 [1:11:32<00:00,  2.07it/s]    \n"
     ]
    },
    {
     "name": "stdout",
     "output_type": "stream",
     "text": [
      "Epoch 3/10 | Training Loss: 0.0276 | Training Accuracy: 99.22%\n"
     ]
    },
    {
     "name": "stderr",
     "output_type": "stream",
     "text": [
      "Testing Progress: 100%|██████████| 2168/2168 [02:02<00:00, 17.69it/s]\n"
     ]
    },
    {
     "name": "stdout",
     "output_type": "stream",
     "text": [
      "Epoch 3/10 | Test Loss: 1.5288 | Test Accuracy: 74.84%\n"
     ]
    },
    {
     "name": "stderr",
     "output_type": "stream",
     "text": [
      "Training Progress: 100%|██████████| 8893/8893 [10:10<00:00, 14.56it/s]\n"
     ]
    },
    {
     "name": "stdout",
     "output_type": "stream",
     "text": [
      "Epoch 4/10 | Training Loss: 0.0157 | Training Accuracy: 99.56%\n"
     ]
    },
    {
     "name": "stderr",
     "output_type": "stream",
     "text": [
      "Testing Progress: 100%|██████████| 2168/2168 [02:05<00:00, 17.22it/s]\n"
     ]
    },
    {
     "name": "stdout",
     "output_type": "stream",
     "text": [
      "Epoch 4/10 | Test Loss: 2.1779 | Test Accuracy: 71.03%\n"
     ]
    },
    {
     "name": "stderr",
     "output_type": "stream",
     "text": [
      "Training Progress:  39%|███▉      | 3487/8893 [1:17:20<05:58, 15.06it/s]     "
     ]
    }
   ],
   "source": [
    "import torch\n",
    "from PotholeCNN import PotholeCNN\n",
    "from TrainLoop import train\n",
    "# Initialize model, optimizer, and load data\n",
    "model = PotholeCNN()  # Your model class\n",
    "optimizer = torch.optim.Adam(model.parameters(), lr=0.00001)\n",
    "device = torch.device(\"cuda\" if torch.cuda.is_available() else \"cpu\")\n",
    "print(f'Running on: {device}')\n",
    "\n",
    "# Train the model\n",
    "train(model, optimizer, epochs=10, train_loader=train_loader, test_loader=val_loader, device=device)"
   ]
  },
  {
   "cell_type": "code",
   "execution_count": null,
   "metadata": {},
   "outputs": [],
   "source": []
  }
 ],
 "metadata": {
  "kernelspec": {
   "display_name": "dlcv",
   "language": "python",
   "name": "python3"
  },
  "language_info": {
   "codemirror_mode": {
    "name": "ipython",
    "version": 3
   },
   "file_extension": ".py",
   "mimetype": "text/x-python",
   "name": "python",
   "nbconvert_exporter": "python",
   "pygments_lexer": "ipython3",
   "version": "3.10.14"
  }
 },
 "nbformat": 4,
 "nbformat_minor": 2
}
